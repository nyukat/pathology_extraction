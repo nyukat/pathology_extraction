{
 "cells": [
  {
   "cell_type": "code",
   "execution_count": 1,
   "id": "340e5033",
   "metadata": {},
   "outputs": [
    {
     "name": "stderr",
     "output_type": "stream",
     "text": [
      "[nltk_data] Downloading package punkt to /home/kgz2437/nltk_data...\n",
      "[nltk_data]   Package punkt is already up-to-date!\n"
     ]
    }
   ],
   "source": [
    "import torch \n",
    "import json \n",
    "import pickle\n",
    "import pandas as pd \n",
    "import src.clinical_ner as ner\n",
    "from importlib import reload"
   ]
  },
  {
   "cell_type": "markdown",
   "id": "b63b269a",
   "metadata": {},
   "source": [
    "### Reporting Parsing Examples\n",
    "\n",
    "In order to demonstrate the robustness of our approach to breast cancer clinical report analysis, we conducted an evaluation using a set of 7 sample reports. These reports were selected to represent a range of different structures and layouts commonly encountered in clinical settings, as well as variations in language usage, including the use of negation and misspellings."
   ]
  },
  {
   "cell_type": "code",
   "execution_count": 2,
   "id": "6ccf192b",
   "metadata": {},
   "outputs": [
    {
     "data": {
      "text/plain": [
       "[{'sentence': \"a. breast, left 11:00 o'clock 5cm from nipple - maligant finding: ductal carcinoma in situ\",\n",
       "  'entities': [{'label': 'I-position',\n",
       "    'span': (16, 45),\n",
       "    'text': \"11:00 o'clock 5cm from nipple\"},\n",
       "   {'label': 'I-cancer_subtype',\n",
       "    'span': (66, 90),\n",
       "    'text': 'ductal carcinoma in situ'}]}]"
      ]
     },
     "execution_count": 2,
     "metadata": {},
     "output_type": "execute_result"
    }
   ],
   "source": [
    "# basic example\n",
    "ner.extract_entity_from_text(\n",
    "    \"a. breast, left 11:00 o'clock 5cm from nipple - maligant finding: ductal carcinoma in situ\", \n",
    "    weights_path ='models/model.all_augmentations.pt'\n",
    ")"
   ]
  },
  {
   "cell_type": "code",
   "execution_count": 3,
   "id": "e46d9aa1",
   "metadata": {},
   "outputs": [
    {
     "data": {
      "text/plain": [
       "[{'sentence': 'a. breast, left 11:00 oclock 5cm fn - maligant finding: ductal caricinoma in situ, high grade',\n",
       "  'entities': [{'label': 'I-position',\n",
       "    'span': (16, 35),\n",
       "    'text': '11:00 oclock 5cm fn'},\n",
       "   {'label': 'I-cancer_subtype',\n",
       "    'span': (56, 81),\n",
       "    'text': 'ductal caricinoma in situ'},\n",
       "   {'label': 'I-cancer_grade', 'span': (83, 93), 'text': 'high grade'}]}]"
      ]
     },
     "execution_count": 3,
     "metadata": {},
     "output_type": "execute_result"
    }
   ],
   "source": [
    "# modified with slight mispellling\n",
    "ner.extract_entity_from_text(\n",
    "    \"a. breast, left 11:00 oclock 5cm fn - maligant finding: ductal caricinoma in situ, high grade\", \n",
    "    weights_path ='models/model.all_augmentations.pt'\n",
    ")"
   ]
  },
  {
   "cell_type": "code",
   "execution_count": 11,
   "id": "82d672d6",
   "metadata": {},
   "outputs": [
    {
     "data": {
      "text/plain": [
       "[{'sentence': 'a. breast, left 11:00 oclock 5cm fn - no evidence of ductal caricinoma in situ',\n",
       "  'entities': [{'label': 'I-position',\n",
       "    'span': (16, 35),\n",
       "    'text': '11:00 oclock 5cm fn'}]}]"
      ]
     },
     "execution_count": 11,
     "metadata": {},
     "output_type": "execute_result"
    }
   ],
   "source": [
    "# apply negation example\n",
    "ner.extract_entity_from_text(\n",
    "    \"a. breast, left 11:00 oclock 5cm fn - no evidence of ductal caricinoma in situ\",\n",
    "    weights_path='models/model.all_augmentations.pt'\n",
    ")"
   ]
  },
  {
   "cell_type": "code",
   "execution_count": null,
   "id": "cc8ca5fa",
   "metadata": {},
   "outputs": [],
   "source": [
    "ner.extract_entity_from_text(\n",
    "    \"a. breast, left 11:00 oclock 5cm fn - no evidence of ductal caricinoma in situ\",\n",
    "    weights_path='models/model.all_augmentations.pt'\n",
    ")"
   ]
  },
  {
   "cell_type": "markdown",
   "id": "1a0765c2",
   "metadata": {},
   "source": [
    "### Reports with Mispellings\n",
    "\n",
    "Breast cancer clinical reports can contain errors, such as misspellings, which can break strict rule-based systems. However, our flexible and adaptable approach to report analysis can handle such errors without requiring explicit training on misspelled data. Our model can accurately extract relevant information, even when it is expressed in a non-standard or incorrect way. For example, we can successfully identify the phrase \"invasive ductal carcinoma\" even if it is misspelled as \"invasive ductal carinoma\" by using contextual clues and report structure."
   ]
  },
  {
   "cell_type": "code",
   "execution_count": 4,
   "id": "8c43e6e9",
   "metadata": {},
   "outputs": [
    {
     "name": "stdout",
     "output_type": "stream",
     "text": [
      "file: data/example_diagnosis.mispelling_1.txt\n",
      "--------------------------------------------------\n",
      "A -  Lymph node, left axillary sentinel #1, biopsy: (slide for review, outside#UHS-17-010523, A)  - One lymph node, negative for metastatic carcinoma, (0/1).      B -  Breast, left, needle wire-localized partial mastectomy : (slide for review, outside# xxxx, B)  - Invasive ductal carinoma with tubular features, well differentiated, with associated microcalcifications, measuring 3.0mm in greatest dimension (measurements on slide \"\"B9\"\"). See note.  - No in situ carcinoma is identified.  - No lymphovascular invasion is present.  - Biopsy site changes.     Note:   Invasive carcinoma is identified 2.5mm from the lateral (green ink) margin (closest margin).  See specimen \"\"C\"\" for additional lateral margin.    C -  Additional lateral margin, biopsy: (slide for review, outside# xxxx, C)  - Benign breast tissue.\n"
     ]
    }
   ],
   "source": [
    "file_path = 'data/example_diagnosis.mispelling_1.txt'\n",
    "with open(file_path, 'rb') as f:\n",
    "    text = f.read().decode()\n",
    "    \n",
    "print(f'file: {file_path}')\n",
    "print('-'*50)\n",
    "print(text)"
   ]
  },
  {
   "cell_type": "code",
   "execution_count": 5,
   "id": "da5c26d4",
   "metadata": {},
   "outputs": [
    {
     "data": {
      "text/plain": [
       "[{'sentence': 'a - lymph node, left axillary sentinel #1, biopsy: (slide for review, outside#uhs-17-010523, a) - one lymph node, negative for metastatic carcinoma, (0/1).',\n",
       "  'entities': [{'label': 'I-position', 'span': (21, 29), 'text': 'axillary'}]},\n",
       " {'sentence': 'b - breast, left, needle wire-localized partial mastectomy : (slide for review, outside# xxxx, b) - invasive ductal carinoma with tubular features, well differentiated, with associated microcalcifications, measuring 3.0mm in greatest dimension (measurements on slide \"\"b9\"\").',\n",
       "  'entities': [{'label': 'I-cancer_subtype',\n",
       "    'span': (100, 124),\n",
       "    'text': 'invasive ductal carinoma'},\n",
       "   {'label': 'I-cancer_grade',\n",
       "    'span': (148, 167),\n",
       "    'text': 'well differentiated'}]},\n",
       " {'sentence': 'see note.', 'entities': []},\n",
       " {'sentence': '- no in situ carcinoma is identified.', 'entities': []},\n",
       " {'sentence': '- no lymphovascular invasion is present.', 'entities': []},\n",
       " {'sentence': '- biopsy site changes.', 'entities': []},\n",
       " {'sentence': 'note: invasive carcinoma is identified 2.5mm from the lateral (green ink) margin (closest margin).',\n",
       "  'entities': []},\n",
       " {'sentence': 'see specimen \"\"c\"\" for additional lateral margin.',\n",
       "  'entities': []},\n",
       " {'sentence': 'c - additional lateral margin, biopsy: (slide for review, outside# xxxx, c) - benign breast tissue.',\n",
       "  'entities': []}]"
      ]
     },
     "execution_count": 5,
     "metadata": {},
     "output_type": "execute_result"
    }
   ],
   "source": [
    "ner.extract_entity_from_report(\n",
    "    'data/example_diagnosis.mispelling_1.txt',\n",
    "    weights_path ='models/model.all_augmentations.pt'\n",
    ")"
   ]
  },
  {
   "cell_type": "markdown",
   "id": "41281e32",
   "metadata": {},
   "source": [
    "### Reports with Negation\n",
    "\n",
    "Negation in breast cancer clinical reports typically occurs when a particular symptom, finding or diagnosis is specifically excluded or ruled out. For example, if a patient undergoes a diagnostic test for breast cancer and the results come back negative, the report may state that \"no signs of invasive carcinoma\". However, in the following example, the report describes a finding that is similar to but not quite cancer. the negation is written in a convoluted and ambiguous way, causing our previous strict rule-based systems to fail. "
   ]
  },
  {
   "cell_type": "code",
   "execution_count": 6,
   "id": "e0a302cb",
   "metadata": {},
   "outputs": [
    {
     "name": "stdout",
     "output_type": "stream",
     "text": [
      "file: data/example_diagnosis.negation_1.txt\n",
      "--------------------------------------------------\n",
      "A -  Lymph node, left axillary sentinel #1, biopsy: (slide for review, outside#UHS-17-010523, A)  - One lymph node, negative for metastatic carcinoma, (0/1).      B -  Breast, left, needle wire-localized partial mastectomy : (slide for review, outside# xxxx, B)  - Invasive ductal carinoma with tubular features, well differentiated, with associated microcalcifications, measuring 3.0mm in greatest dimension (measurements on slide \"\"B9\"\"). See note.  - No in situ carcinoma is identified.  - No lymphovascular invasion is present.  - Biopsy site changes.     Note:   Invasive carcinoma is identified 2.5mm from the lateral (green ink) margin (closest margin).  See specimen \"\"C\"\" for additional lateral margin.    C -  Additional lateral margin, biopsy: (slide for review, outside# xxxx, C)  - Benign breast tissue.\n"
     ]
    }
   ],
   "source": [
    "negation_file_path = 'data/example_diagnosis.negation_1.txt'\n",
    "with open(negation_file_path, 'rb') as f:\n",
    "    negation_text = f.read().decode()\n",
    "    \n",
    "print(f'file: {negation_file_path}')\n",
    "print('-'*50)\n",
    "print(text)"
   ]
  },
  {
   "cell_type": "code",
   "execution_count": 7,
   "id": "cb3d941a",
   "metadata": {},
   "outputs": [
    {
     "data": {
      "text/plain": [
       "[{'sentence': '1. breast, right 9:00, segmental excision with needle localization: - fibrocystic change, proliferative type, including atypical ductal hyperplasia, associated with microcalcifications - intraductal papilloma - hyalinized and calcified fibroadenoma - biopsy site change 2. breast, right 1:00, segmental excision with needle localization: - fibrocystic change, proliferative type, including atypical ductal hyperplasia, associated with microcalcifications - intraductal papilloma - biopsy site change comment: there are scattered foci in parts 1 and 2 showing a micropapillary and cribriform ductal proliferation, which fall short of the criteria for ductal carcinoma in situ.',\n",
       "  'entities': [{'label': 'I-position', 'span': (17, 21), 'text': '9:00'},\n",
       "   {'label': 'I-position', 'span': (287, 291), 'text': '1:00'}]},\n",
       " {'sentence': 'multiple levels have been examined.', 'entities': []},\n",
       " {'sentence': 'xxxx has reviewed the case and concurs with the diagnosis of atypical ductal hyperplasia.',\n",
       "  'entities': []}]"
      ]
     },
     "execution_count": 7,
     "metadata": {},
     "output_type": "execute_result"
    }
   ],
   "source": [
    "ner.extract_entity_from_report(\n",
    "    negation_file_path,\n",
    "    weights_path ='models/model.all_augmentations.pt'\n",
    ")"
   ]
  },
  {
   "cell_type": "markdown",
   "id": "f01df3a4",
   "metadata": {},
   "source": [
    "### Example outputs"
   ]
  },
  {
   "cell_type": "code",
   "execution_count": 8,
   "id": "e2ec2f20",
   "metadata": {},
   "outputs": [
    {
     "data": {
      "text/plain": [
       "[{'sentence': '1. breast, right 9:00, segmental excision with needle localization: - fibrocystic change, proliferative type, including atypical ductal hyperplasia, associated with microcalcifications - intraductal papilloma - hyalinized and calcified fibroadenoma - biopsy site change 2. breast, right 1:00, segmental excision with needle localization: - fibrocystic change, proliferative type, including atypical ductal hyperplasia, associated with microcalcifications - intraductal papilloma - biopsy site change comment: there are scattered foci in parts 1 and 2 showing a micropapillary and cribriform ductal proliferation, which fall short of the criteria for ductal carcinoma in situ.',\n",
       "  'entities': [{'label': 'position', 'span': (17, 21), 'text': '9:00'},\n",
       "   {'label': 'position', 'span': (287, 291), 'text': '1:00'}]},\n",
       " {'sentence': 'multiple levels have been examined.', 'entities': []},\n",
       " {'sentence': 'xxxx has reviewed the case and concurs with the diagnosis of atypical ductal hyperplasia.',\n",
       "  'entities': []}]"
      ]
     },
     "execution_count": 8,
     "metadata": {},
     "output_type": "execute_result"
    }
   ],
   "source": [
    "import pickle\n",
    "with open('example_outputs/example_diagnosis.negation_1.entities.pickle', 'rb') as f:\n",
    "    example_output = pickle.load(f)\n",
    "    \n",
    "example_output"
   ]
  },
  {
   "cell_type": "code",
   "execution_count": null,
   "id": "e35ee521",
   "metadata": {},
   "outputs": [],
   "source": []
  }
 ],
 "metadata": {
  "kernelspec": {
   "display_name": "Python 3 (ipykernel)",
   "language": "python",
   "name": "python3"
  },
  "language_info": {
   "codemirror_mode": {
    "name": "ipython",
    "version": 3
   },
   "file_extension": ".py",
   "mimetype": "text/x-python",
   "name": "python",
   "nbconvert_exporter": "python",
   "pygments_lexer": "ipython3",
   "version": "3.7.11"
  }
 },
 "nbformat": 4,
 "nbformat_minor": 5
}
